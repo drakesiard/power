{
 "cells": [
  {
   "cell_type": "code",
   "execution_count": 1,
   "metadata": {},
   "outputs": [],
   "source": [
    "from IPython.display import display\n",
    "\n",
    "from io import StringIO\n",
    "from matplotlib import pyplot as plt\n",
    "import numpy as np\n",
    "import os\n",
    "import pandas as pd\n",
    "\n",
    "from mosek.fusion import Model, Domain, Expr, ObjectiveSense\n"
   ]
  },
  {
   "cell_type": "code",
   "execution_count": 2,
   "metadata": {},
   "outputs": [],
   "source": [
    "bid_df = pd.read_csv('20201007_bids_cb.csv')\n",
    "offer_df = pd.read_csv('20201007_da_co.csv')\n"
   ]
  },
  {
   "cell_type": "code",
   "execution_count": 13,
   "metadata": {},
   "outputs": [
    {
     "data": {
      "text/plain": [
       "array(['North', 'Central', nan, 'South'], dtype=object)"
      ]
     },
     "execution_count": 13,
     "metadata": {},
     "output_type": "execute_result"
    }
   ],
   "source": [
    "bid_df['Region'].unique()"
   ]
  },
  {
   "cell_type": "code",
   "execution_count": 3,
   "metadata": {},
   "outputs": [],
   "source": [
    "nodes = ['B1', 'B2', 'B3']\n",
    "nnodes = len(nodes)"
   ]
  },
  {
   "cell_type": "code",
   "execution_count": 4,
   "metadata": {},
   "outputs": [
    {
     "data": {
      "text/html": [
       "<div>\n",
       "<style scoped>\n",
       "    .dataframe tbody tr th:only-of-type {\n",
       "        vertical-align: middle;\n",
       "    }\n",
       "\n",
       "    .dataframe tbody tr th {\n",
       "        vertical-align: top;\n",
       "    }\n",
       "\n",
       "    .dataframe thead th {\n",
       "        text-align: right;\n",
       "    }\n",
       "</style>\n",
       "<table border=\"1\" class=\"dataframe\">\n",
       "  <thead>\n",
       "    <tr style=\"text-align: right;\">\n",
       "      <th></th>\n",
       "      <th>node</th>\n",
       "      <th>capacity (MWh)</th>\n",
       "      <th>offer ($/MWh)</th>\n",
       "    </tr>\n",
       "    <tr>\n",
       "      <th>id</th>\n",
       "      <th></th>\n",
       "      <th></th>\n",
       "      <th></th>\n",
       "    </tr>\n",
       "  </thead>\n",
       "  <tbody>\n",
       "    <tr>\n",
       "      <th>G1</th>\n",
       "      <td>B1</td>\n",
       "      <td>100.0</td>\n",
       "      <td>12.0</td>\n",
       "    </tr>\n",
       "    <tr>\n",
       "      <th>G2</th>\n",
       "      <td>B2</td>\n",
       "      <td>80.0</td>\n",
       "      <td>20.0</td>\n",
       "    </tr>\n",
       "  </tbody>\n",
       "</table>\n",
       "</div>"
      ],
      "text/plain": [
       "   node  capacity (MWh)  offer ($/MWh)\n",
       "id                                    \n",
       "G1   B1           100.0           12.0\n",
       "G2   B2            80.0           20.0"
      ]
     },
     "execution_count": 4,
     "metadata": {},
     "output_type": "execute_result"
    }
   ],
   "source": [
    "supply = pd.DataFrame([\n",
    "    ['G1', 'B1', 100., 12.],\n",
    "    ['G2', 'B2', 80., 20.],\n",
    "], columns=['id', 'node', 'capacity (MWh)', 'offer ($/MWh)']).set_index('id')\n",
    "nsupply = len(supply)\n",
    "assert supply.node.isin(nodes).all()\n",
    "supply"
   ]
  },
  {
   "cell_type": "code",
   "execution_count": 5,
   "metadata": {},
   "outputs": [
    {
     "data": {
      "text/html": [
       "<div>\n",
       "<style scoped>\n",
       "    .dataframe tbody tr th:only-of-type {\n",
       "        vertical-align: middle;\n",
       "    }\n",
       "\n",
       "    .dataframe tbody tr th {\n",
       "        vertical-align: top;\n",
       "    }\n",
       "\n",
       "    .dataframe thead th {\n",
       "        text-align: right;\n",
       "    }\n",
       "</style>\n",
       "<table border=\"1\" class=\"dataframe\">\n",
       "  <thead>\n",
       "    <tr style=\"text-align: right;\">\n",
       "      <th></th>\n",
       "      <th>node</th>\n",
       "      <th>demand (MWh)</th>\n",
       "      <th>bid ($/MWh)</th>\n",
       "    </tr>\n",
       "    <tr>\n",
       "      <th>id</th>\n",
       "      <th></th>\n",
       "      <th></th>\n",
       "      <th></th>\n",
       "    </tr>\n",
       "  </thead>\n",
       "  <tbody>\n",
       "    <tr>\n",
       "      <th>D1</th>\n",
       "      <td>B2</td>\n",
       "      <td>100.0</td>\n",
       "      <td>40.0</td>\n",
       "    </tr>\n",
       "    <tr>\n",
       "      <th>D2</th>\n",
       "      <td>B3</td>\n",
       "      <td>50.0</td>\n",
       "      <td>35.0</td>\n",
       "    </tr>\n",
       "  </tbody>\n",
       "</table>\n",
       "</div>"
      ],
      "text/plain": [
       "   node  demand (MWh)  bid ($/MWh)\n",
       "id                                \n",
       "D1   B2         100.0         40.0\n",
       "D2   B3          50.0         35.0"
      ]
     },
     "execution_count": 5,
     "metadata": {},
     "output_type": "execute_result"
    }
   ],
   "source": [
    "demand = pd.DataFrame([\n",
    "    ['D1', 'B2', 100., 40.],\n",
    "    ['D2', 'B3', 50., 35.],\n",
    "], columns=['id', 'node', 'demand (MWh)', 'bid ($/MWh)']).set_index('id')\n",
    "ndemand = len(demand)\n",
    "assert demand.node.isin(nodes).all()\n",
    "demand"
   ]
  },
  {
   "cell_type": "code",
   "execution_count": 6,
   "metadata": {},
   "outputs": [
    {
     "data": {
      "text/html": [
       "<div>\n",
       "<style scoped>\n",
       "    .dataframe tbody tr th:only-of-type {\n",
       "        vertical-align: middle;\n",
       "    }\n",
       "\n",
       "    .dataframe tbody tr th {\n",
       "        vertical-align: top;\n",
       "    }\n",
       "\n",
       "    .dataframe thead th {\n",
       "        text-align: right;\n",
       "    }\n",
       "</style>\n",
       "<table border=\"1\" class=\"dataframe\">\n",
       "  <thead>\n",
       "    <tr style=\"text-align: right;\">\n",
       "      <th></th>\n",
       "      <th>source</th>\n",
       "      <th>dest</th>\n",
       "      <th>capacity (MWh)</th>\n",
       "      <th>susceptance (S)</th>\n",
       "    </tr>\n",
       "    <tr>\n",
       "      <th>id</th>\n",
       "      <th></th>\n",
       "      <th></th>\n",
       "      <th></th>\n",
       "      <th></th>\n",
       "    </tr>\n",
       "  </thead>\n",
       "  <tbody>\n",
       "    <tr>\n",
       "      <th>L12</th>\n",
       "      <td>B1</td>\n",
       "      <td>B2</td>\n",
       "      <td>40.0</td>\n",
       "      <td>500.0</td>\n",
       "    </tr>\n",
       "    <tr>\n",
       "      <th>L13</th>\n",
       "      <td>B1</td>\n",
       "      <td>B3</td>\n",
       "      <td>100.0</td>\n",
       "      <td>500.0</td>\n",
       "    </tr>\n",
       "    <tr>\n",
       "      <th>L23</th>\n",
       "      <td>B2</td>\n",
       "      <td>B3</td>\n",
       "      <td>100.0</td>\n",
       "      <td>500.0</td>\n",
       "    </tr>\n",
       "  </tbody>\n",
       "</table>\n",
       "</div>"
      ],
      "text/plain": [
       "    source dest  capacity (MWh)  susceptance (S)\n",
       "id                                              \n",
       "L12     B1   B2            40.0            500.0\n",
       "L13     B1   B3           100.0            500.0\n",
       "L23     B2   B3           100.0            500.0"
      ]
     },
     "execution_count": 6,
     "metadata": {},
     "output_type": "execute_result"
    }
   ],
   "source": [
    "lines = pd.DataFrame([\n",
    "    ['L12', 'B1', 'B2', 40., 500.],\n",
    "    ['L13', 'B1', 'B3', 100., 500.],\n",
    "    ['L23', 'B2', 'B3', 100., 500.],\n",
    "], columns=['id', 'source', 'dest', 'capacity (MWh)', 'susceptance (S)']).set_index('id')\n",
    "nlines = len(lines)\n",
    "lines"
   ]
  },
  {
   "cell_type": "code",
   "execution_count": 7,
   "metadata": {},
   "outputs": [],
   "source": [
    "M = Model('power')\n",
    "log = StringIO()\n",
    "M.setLogHandler(log)\n",
    "theta = M.variable('theta', nnodes, Domain.inRange(\n",
    "    [0.] + [-np.pi] * (nnodes - 1), \n",
    "    [0.] + [np.pi] * (nnodes - 1), \n",
    "))\n",
    "pD = M.variable('pD', ndemand, Domain.inRange(0, demand['demand (MWh)'].values))\n",
    "pG = M.variable('pG', nsupply, Domain.inRange(0, supply['capacity (MWh)'].values))\n",
    "lambdaD = demand['bid ($/MWh)'].values\n",
    "lambdaG = supply['offer ($/MWh)'].values\n",
    "\n",
    "line_constraints = Domain.inRange(-lines['capacity (MWh)'].values, \n",
    "                                  lines['capacity (MWh)'].values)\n",
    "line_flows = M.variable('flows', nlines, line_constraints)\n",
    "src_idx = [nodes.index(x) for x in lines.source]\n",
    "dst_idx = [nodes.index(x) for x in lines.dest]\n",
    "phase_diff = Expr.sub(theta.pick(src_idx), theta.pick(dst_idx))\n",
    "phase_flow = M.constraint(Expr.sub(line_flows, \n",
    "                                  Expr.mulElm(lines['susceptance (S)'].values, phase_diff)),\n",
    "                         Domain.equalsTo(0.))\n",
    "node_balance_eqs = []\n",
    "for node in nodes:\n",
    "    supply_idx = np.flatnonzero(supply.node == node).astype('int32')\n",
    "    node_supply = Expr.sum(pD.pick(supply_idx))\n",
    "    demand_idx = np.flatnonzero(demand.node == node).astype('int32')\n",
    "    node_demand = Expr.sum(pG.pick(demand_idx))\n",
    "    balance = Expr.sub(node_supply, node_demand)\n",
    "    direction = [-1 if line.source == node else \n",
    "                 1 if line.dest == node else \n",
    "                 0 for line_idx, line in lines.iterrows()]\n",
    "    balance = Expr.add(balance, Expr.dot(direction, line_flows))\n",
    "    balance_eq = M.constraint(node + 'balance', balance, Domain.equalsTo(0.))\n",
    "    node_balance_eqs.append(balance_eq)\n",
    "\n",
    "obj = Expr.sub(Expr.dot(lambdaD, pD), Expr.dot(lambdaG, pG))\n",
    "M.objective('obj', ObjectiveSense.Maximize, obj)\n",
    "M.solve()\n",
    "\n",
    "demand['consumed (MWh)'] = pD.level()\n",
    "supply['supplied (MWh)'] = pG.level()\n",
    "lines['flow (MWh)'] = line_flows.level()\n",
    "buses = pd.DataFrame({\n",
    "    'volt. angle (rad)': theta.level(),\n",
    "    'node price ($/MWh)': [e.dual()[0] for e in node_balance_eqs]\n",
    "}, index=nodes)"
   ]
  },
  {
   "cell_type": "code",
   "execution_count": 8,
   "metadata": {},
   "outputs": [
    {
     "data": {
      "text/html": [
       "<div>\n",
       "<style scoped>\n",
       "    .dataframe tbody tr th:only-of-type {\n",
       "        vertical-align: middle;\n",
       "    }\n",
       "\n",
       "    .dataframe tbody tr th {\n",
       "        vertical-align: top;\n",
       "    }\n",
       "\n",
       "    .dataframe thead th {\n",
       "        text-align: right;\n",
       "    }\n",
       "</style>\n",
       "<table border=\"1\" class=\"dataframe\">\n",
       "  <thead>\n",
       "    <tr style=\"text-align: right;\">\n",
       "      <th></th>\n",
       "      <th>node</th>\n",
       "      <th>demand (MWh)</th>\n",
       "      <th>bid ($/MWh)</th>\n",
       "      <th>consumed (MWh)</th>\n",
       "    </tr>\n",
       "    <tr>\n",
       "      <th>id</th>\n",
       "      <th></th>\n",
       "      <th></th>\n",
       "      <th></th>\n",
       "      <th></th>\n",
       "    </tr>\n",
       "  </thead>\n",
       "  <tbody>\n",
       "    <tr>\n",
       "      <th>D1</th>\n",
       "      <td>B2</td>\n",
       "      <td>100.0</td>\n",
       "      <td>40.0</td>\n",
       "      <td>100.0</td>\n",
       "    </tr>\n",
       "    <tr>\n",
       "      <th>D2</th>\n",
       "      <td>B3</td>\n",
       "      <td>50.0</td>\n",
       "      <td>35.0</td>\n",
       "      <td>50.0</td>\n",
       "    </tr>\n",
       "  </tbody>\n",
       "</table>\n",
       "</div>"
      ],
      "text/plain": [
       "   node  demand (MWh)  bid ($/MWh)  consumed (MWh)\n",
       "id                                                \n",
       "D1   B2         100.0         40.0           100.0\n",
       "D2   B3          50.0         35.0            50.0"
      ]
     },
     "metadata": {},
     "output_type": "display_data"
    },
    {
     "data": {
      "text/html": [
       "<div>\n",
       "<style scoped>\n",
       "    .dataframe tbody tr th:only-of-type {\n",
       "        vertical-align: middle;\n",
       "    }\n",
       "\n",
       "    .dataframe tbody tr th {\n",
       "        vertical-align: top;\n",
       "    }\n",
       "\n",
       "    .dataframe thead th {\n",
       "        text-align: right;\n",
       "    }\n",
       "</style>\n",
       "<table border=\"1\" class=\"dataframe\">\n",
       "  <thead>\n",
       "    <tr style=\"text-align: right;\">\n",
       "      <th></th>\n",
       "      <th>node</th>\n",
       "      <th>capacity (MWh)</th>\n",
       "      <th>offer ($/MWh)</th>\n",
       "      <th>supplied (MWh)</th>\n",
       "    </tr>\n",
       "    <tr>\n",
       "      <th>id</th>\n",
       "      <th></th>\n",
       "      <th></th>\n",
       "      <th></th>\n",
       "      <th></th>\n",
       "    </tr>\n",
       "  </thead>\n",
       "  <tbody>\n",
       "    <tr>\n",
       "      <th>G1</th>\n",
       "      <td>B1</td>\n",
       "      <td>100.0</td>\n",
       "      <td>12.0</td>\n",
       "      <td>70.0</td>\n",
       "    </tr>\n",
       "    <tr>\n",
       "      <th>G2</th>\n",
       "      <td>B2</td>\n",
       "      <td>80.0</td>\n",
       "      <td>20.0</td>\n",
       "      <td>80.0</td>\n",
       "    </tr>\n",
       "  </tbody>\n",
       "</table>\n",
       "</div>"
      ],
      "text/plain": [
       "   node  capacity (MWh)  offer ($/MWh)  supplied (MWh)\n",
       "id                                                    \n",
       "G1   B1           100.0           12.0            70.0\n",
       "G2   B2            80.0           20.0            80.0"
      ]
     },
     "metadata": {},
     "output_type": "display_data"
    },
    {
     "name": "stdout",
     "output_type": "stream",
     "text": [
      "Energy scheduled: 150\n",
      "Objective value: 3310\n"
     ]
    },
    {
     "data": {
      "text/html": [
       "<div>\n",
       "<style scoped>\n",
       "    .dataframe tbody tr th:only-of-type {\n",
       "        vertical-align: middle;\n",
       "    }\n",
       "\n",
       "    .dataframe tbody tr th {\n",
       "        vertical-align: top;\n",
       "    }\n",
       "\n",
       "    .dataframe thead th {\n",
       "        text-align: right;\n",
       "    }\n",
       "</style>\n",
       "<table border=\"1\" class=\"dataframe\">\n",
       "  <thead>\n",
       "    <tr style=\"text-align: right;\">\n",
       "      <th></th>\n",
       "      <th>source</th>\n",
       "      <th>dest</th>\n",
       "      <th>capacity (MWh)</th>\n",
       "      <th>susceptance (S)</th>\n",
       "      <th>flow (MWh)</th>\n",
       "    </tr>\n",
       "    <tr>\n",
       "      <th>id</th>\n",
       "      <th></th>\n",
       "      <th></th>\n",
       "      <th></th>\n",
       "      <th></th>\n",
       "      <th></th>\n",
       "    </tr>\n",
       "  </thead>\n",
       "  <tbody>\n",
       "    <tr>\n",
       "      <th>L12</th>\n",
       "      <td>B1</td>\n",
       "      <td>B2</td>\n",
       "      <td>40.0</td>\n",
       "      <td>500.0</td>\n",
       "      <td>40.0</td>\n",
       "    </tr>\n",
       "    <tr>\n",
       "      <th>L13</th>\n",
       "      <td>B1</td>\n",
       "      <td>B3</td>\n",
       "      <td>100.0</td>\n",
       "      <td>500.0</td>\n",
       "      <td>60.0</td>\n",
       "    </tr>\n",
       "    <tr>\n",
       "      <th>L23</th>\n",
       "      <td>B2</td>\n",
       "      <td>B3</td>\n",
       "      <td>100.0</td>\n",
       "      <td>500.0</td>\n",
       "      <td>20.0</td>\n",
       "    </tr>\n",
       "  </tbody>\n",
       "</table>\n",
       "</div>"
      ],
      "text/plain": [
       "    source dest  capacity (MWh)  susceptance (S)  flow (MWh)\n",
       "id                                                          \n",
       "L12     B1   B2            40.0            500.0        40.0\n",
       "L13     B1   B3           100.0            500.0        60.0\n",
       "L23     B2   B3           100.0            500.0        20.0"
      ]
     },
     "metadata": {},
     "output_type": "display_data"
    },
    {
     "data": {
      "text/html": [
       "<div>\n",
       "<style scoped>\n",
       "    .dataframe tbody tr th:only-of-type {\n",
       "        vertical-align: middle;\n",
       "    }\n",
       "\n",
       "    .dataframe tbody tr th {\n",
       "        vertical-align: top;\n",
       "    }\n",
       "\n",
       "    .dataframe thead th {\n",
       "        text-align: right;\n",
       "    }\n",
       "</style>\n",
       "<table border=\"1\" class=\"dataframe\">\n",
       "  <thead>\n",
       "    <tr style=\"text-align: right;\">\n",
       "      <th></th>\n",
       "      <th>volt. angle (rad)</th>\n",
       "      <th>node price ($/MWh)</th>\n",
       "    </tr>\n",
       "  </thead>\n",
       "  <tbody>\n",
       "    <tr>\n",
       "      <th>B1</th>\n",
       "      <td>0.00</td>\n",
       "      <td>40.0</td>\n",
       "    </tr>\n",
       "    <tr>\n",
       "      <th>B2</th>\n",
       "      <td>-0.08</td>\n",
       "      <td>12.0</td>\n",
       "    </tr>\n",
       "    <tr>\n",
       "      <th>B3</th>\n",
       "      <td>-0.12</td>\n",
       "      <td>26.0</td>\n",
       "    </tr>\n",
       "  </tbody>\n",
       "</table>\n",
       "</div>"
      ],
      "text/plain": [
       "    volt. angle (rad)  node price ($/MWh)\n",
       "B1               0.00                40.0\n",
       "B2              -0.08                12.0\n",
       "B3              -0.12                26.0"
      ]
     },
     "metadata": {},
     "output_type": "display_data"
    }
   ],
   "source": [
    "display(demand)\n",
    "display(supply)\n",
    "print('Energy scheduled: {:g}'.format(demand['consumed (MWh)'].sum()))\n",
    "print('Objective value: {:g}'.format(M.primalObjValue()))\n",
    "display(lines)\n",
    "display(buses)"
   ]
  },
  {
   "cell_type": "code",
   "execution_count": 9,
   "metadata": {},
   "outputs": [
    {
     "name": "stdout",
     "output_type": "stream",
     "text": [
      "MOSEK warning 705: #1 (nearly) zero elements are specified in sparse row ''(3) of matrix 'A'.\n",
      "MOSEK warning 705: #1 (nearly) zero elements are specified in sparse row ''(4) of matrix 'A'.\n",
      "MOSEK warning 705: #1 (nearly) zero elements are specified in sparse row ''(5) of matrix 'A'.\n",
      "Problem\n",
      "  Name                   : power           \n",
      "  Objective sense        : max             \n",
      "  Type                   : LO (linear optimization problem)\n",
      "  Constraints            : 6               \n",
      "  Cones                  : 0               \n",
      "  Scalar variables       : 11              \n",
      "  Matrix variables       : 0               \n",
      "  Integer variables      : 0               \n",
      "\n",
      "Optimizer started.\n",
      "Presolve started.\n",
      "Linear dependency checker started.\n",
      "Linear dependency checker terminated.\n",
      "Eliminator started.\n",
      "Freed constraints in eliminator : 3\n",
      "Eliminator terminated.\n",
      "Eliminator started.\n",
      "Freed constraints in eliminator : 1\n",
      "Eliminator terminated.\n",
      "Eliminator - tries                  : 2                 time                   : 0.00            \n",
      "Lin. dep.  - tries                  : 1                 time                   : 0.00            \n",
      "Lin. dep.  - number                 : 0               \n",
      "Presolve terminated. Time: 0.00    \n",
      "Problem\n",
      "  Name                   : power           \n",
      "  Objective sense        : max             \n",
      "  Type                   : LO (linear optimization problem)\n",
      "  Constraints            : 6               \n",
      "  Cones                  : 0               \n",
      "  Scalar variables       : 11              \n",
      "  Matrix variables       : 0               \n",
      "  Integer variables      : 0               \n",
      "\n",
      "Optimizer  - threads                : 6               \n",
      "Optimizer  - solved problem         : the primal      \n",
      "Optimizer  - Constraints            : 2\n",
      "Optimizer  - Cones                  : 0\n",
      "Optimizer  - Scalar variables       : 5                 conic                  : 0               \n",
      "Optimizer  - Semi-definite variables: 0                 scalarized             : 0               \n",
      "Factor     - setup time             : 0.00              dense det. time        : 0.00            \n",
      "Factor     - ML order time          : 0.00              GP order time          : 0.00            \n",
      "Factor     - nonzeros before factor : 3                 after factor           : 3               \n",
      "Factor     - dense dim.             : 0                 flops                  : 2.30e+01        \n",
      "ITE PFEAS    DFEAS    GFEAS    PRSTATUS   POBJ              DOBJ              MU       TIME  \n",
      "0   7.7e+03  4.8e+03  3.3e+03  0.00e+00   4.300000000e+01   0.000000000e+00   6.2e+03  0.00  \n",
      "1   1.3e+03  8.3e+02  5.7e+02  -9.48e-01  3.360391845e+02   2.940974286e+02   1.1e+03  0.00  \n",
      "2   2.1e+02  1.3e+02  8.9e+01  -7.44e-01  1.592648271e+03   1.555929976e+03   1.7e+02  0.00  \n",
      "3   1.3e+01  8.1e+00  5.6e+00  -3.51e-03  3.109015044e+03   3.098661657e+03   1.0e+01  0.00  \n",
      "4   1.1e-02  7.0e-03  4.8e-03  9.24e-01   3.309822292e+03   3.309809048e+03   9.0e-03  0.00  \n",
      "5   1.1e-06  7.0e-07  4.8e-07  1.00e+00   3.309999982e+03   3.309999981e+03   9.0e-07  0.00  \n",
      "Basis identification started.\n",
      "Primal basis identification phase started.\n",
      "Primal basis identification phase terminated. Time: 0.00\n",
      "Dual basis identification phase started.\n",
      "Dual basis identification phase terminated. Time: 0.00\n",
      "Basis identification terminated. Time: 0.00\n",
      "Optimizer terminated. Time: 0.00    \n",
      "\n",
      "\n",
      "Interior-point solution summary\n",
      "  Problem status  : PRIMAL_AND_DUAL_FEASIBLE\n",
      "  Solution status : OPTIMAL\n",
      "  Primal.  obj: 3.3099999822e+03    nrm: 1e+02    Viol.  con: 3e-07    var: 0e+00  \n",
      "  Dual.    obj: 3.3099999811e+03    nrm: 4e+01    Viol.  con: 0e+00    var: 2e-07  \n",
      "\n",
      "Basic solution summary\n",
      "  Problem status  : PRIMAL_AND_DUAL_FEASIBLE\n",
      "  Solution status : OPTIMAL\n",
      "  Primal.  obj: 3.3100000000e+03    nrm: 1e+02    Viol.  con: 0e+00    var: 0e+00  \n",
      "  Dual.    obj: 3.3100000045e+03    nrm: 4e+01    Viol.  con: 0e+00    var: 0e+00  \n",
      "\n"
     ]
    }
   ],
   "source": [
    "print(log.getvalue())"
   ]
  },
  {
   "cell_type": "code",
   "execution_count": 10,
   "metadata": {},
   "outputs": [
    {
     "data": {
      "text/plain": [
       "[<matplotlib.lines.Line2D at 0x7f9e373d2280>]"
      ]
     },
     "execution_count": 10,
     "metadata": {},
     "output_type": "execute_result"
    },
    {
     "data": {
      "image/png": "[encoded data removed]",
      "text/plain": [
       "<Figure size 432x288 with 1 Axes>"
      ]
     },
     "metadata": {
      "needs_background": "light"
     },
     "output_type": "display_data"
    }
   ],
   "source": [
    "plt.plot(supply['capacity (MWh)'].cumsum(), supply['offer ($/MWh)'])\n",
    "plt.plot(demand['demand (MWh)'].sort_index(ascending=True).cumsum().sort_index(),\n",
    "         demand['bid ($/MWh)']\n",
    "        )"
   ]
  },
  {
   "cell_type": "code",
   "execution_count": null,
   "metadata": {},
   "outputs": [],
   "source": []
  }
 ],
 "metadata": {
  "kernelspec": {
   "display_name": "power",
   "language": "python",
   "name": "power"
  },
  "language_info": {
   "codemirror_mode": {
    "name": "ipython",
    "version": 3
   },
   "file_extension": ".py",
   "mimetype": "text/x-python",
   "name": "python",
   "nbconvert_exporter": "python",
   "pygments_lexer": "ipython3",
   "version": "3.8.5"
  }
 },
 "nbformat": 4,
 "nbformat_minor": 4
}
