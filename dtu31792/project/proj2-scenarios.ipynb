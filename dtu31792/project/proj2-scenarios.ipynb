{
 "cells": [
  {
   "cell_type": "code",
   "execution_count": 1,
   "id": "original-robertson",
   "metadata": {},
   "outputs": [],
   "source": [
    "from IPython.display import display\n",
    "\n",
    "from io import StringIO\n",
    "import itertools\n",
    "from matplotlib import pyplot as plt\n",
    "import seaborn as sns\n",
    "import numpy as np\n",
    "import scipy.stats\n",
    "import scipy\n",
    "import statsmodels.sandbox.distributions.extras as smde\n",
    "import os\n",
    "import pandas as pd\n",
    "\n",
    "sns.set_style(\"whitegrid\")\n"
   ]
  },
  {
   "cell_type": "code",
   "execution_count": 2,
   "id": "roman-reservation",
   "metadata": {},
   "outputs": [
    {
     "name": "stdout",
     "output_type": "stream",
     "text": [
      "(2851, 3)\n"
     ]
    },
    {
     "data": {
      "text/html": [
       "<div>\n",
       "<style scoped>\n",
       "    .dataframe tbody tr th:only-of-type {\n",
       "        vertical-align: middle;\n",
       "    }\n",
       "\n",
       "    .dataframe tbody tr th {\n",
       "        vertical-align: top;\n",
       "    }\n",
       "\n",
       "    .dataframe thead th {\n",
       "        text-align: right;\n",
       "    }\n",
       "</style>\n",
       "<table border=\"1\" class=\"dataframe\">\n",
       "  <thead>\n",
       "    <tr style=\"text-align: right;\">\n",
       "      <th></th>\n",
       "      <th>node</th>\n",
       "      <th>capacity (MW)</th>\n",
       "      <th>offer ($/MW)</th>\n",
       "    </tr>\n",
       "    <tr>\n",
       "      <th>id</th>\n",
       "      <th></th>\n",
       "      <th></th>\n",
       "      <th></th>\n",
       "    </tr>\n",
       "  </thead>\n",
       "  <tbody>\n",
       "    <tr>\n",
       "      <th>A3153_0</th>\n",
       "      <td>North</td>\n",
       "      <td>1.0</td>\n",
       "      <td>8.16</td>\n",
       "    </tr>\n",
       "    <tr>\n",
       "      <th>A3153_1</th>\n",
       "      <td>North</td>\n",
       "      <td>245.0</td>\n",
       "      <td>9.54</td>\n",
       "    </tr>\n",
       "    <tr>\n",
       "      <th>A3153_2</th>\n",
       "      <td>North</td>\n",
       "      <td>1.0</td>\n",
       "      <td>14.27</td>\n",
       "    </tr>\n",
       "    <tr>\n",
       "      <th>A3153_3</th>\n",
       "      <td>North</td>\n",
       "      <td>72.0</td>\n",
       "      <td>14.28</td>\n",
       "    </tr>\n",
       "    <tr>\n",
       "      <th>A3167_0</th>\n",
       "      <td>Central</td>\n",
       "      <td>330.0</td>\n",
       "      <td>8.74</td>\n",
       "    </tr>\n",
       "  </tbody>\n",
       "</table>\n",
       "</div>"
      ],
      "text/plain": [
       "            node  capacity (MW)  offer ($/MW)\n",
       "id                                           \n",
       "A3153_0    North            1.0          8.16\n",
       "A3153_1    North          245.0          9.54\n",
       "A3153_2    North            1.0         14.27\n",
       "A3153_3    North           72.0         14.28\n",
       "A3167_0  Central          330.0          8.74"
      ]
     },
     "execution_count": 2,
     "metadata": {},
     "output_type": "execute_result"
    }
   ],
   "source": [
    "supply = pd.read_csv('20201007_da_co.processed.csv').set_index('id')\n",
    "nsupply = len(supply)\n",
    "print(supply.shape)\n",
    "supply.head()"
   ]
  },
  {
   "cell_type": "code",
   "execution_count": 3,
   "id": "fourth-voltage",
   "metadata": {},
   "outputs": [],
   "source": [
    "nodes = supply.node.unique()"
   ]
  },
  {
   "cell_type": "code",
   "execution_count": 4,
   "id": "hollywood-librarian",
   "metadata": {},
   "outputs": [
    {
     "data": {
      "text/html": [
       "<div>\n",
       "<style scoped>\n",
       "    .dataframe tbody tr th:only-of-type {\n",
       "        vertical-align: middle;\n",
       "    }\n",
       "\n",
       "    .dataframe tbody tr th {\n",
       "        vertical-align: top;\n",
       "    }\n",
       "\n",
       "    .dataframe thead th {\n",
       "        text-align: right;\n",
       "    }\n",
       "</style>\n",
       "<table border=\"1\" class=\"dataframe\">\n",
       "  <thead>\n",
       "    <tr style=\"text-align: right;\">\n",
       "      <th></th>\n",
       "      <th>sum</th>\n",
       "      <th>len</th>\n",
       "    </tr>\n",
       "    <tr>\n",
       "      <th>type</th>\n",
       "      <th></th>\n",
       "      <th></th>\n",
       "    </tr>\n",
       "  </thead>\n",
       "  <tbody>\n",
       "    <tr>\n",
       "      <th>flexible</th>\n",
       "      <td>10682.7</td>\n",
       "      <td>647.0</td>\n",
       "    </tr>\n",
       "    <tr>\n",
       "      <th>inflexible</th>\n",
       "      <td>97074.5</td>\n",
       "      <td>1941.0</td>\n",
       "    </tr>\n",
       "    <tr>\n",
       "      <th>wind</th>\n",
       "      <td>38076.0</td>\n",
       "      <td>263.0</td>\n",
       "    </tr>\n",
       "  </tbody>\n",
       "</table>\n",
       "</div>"
      ],
      "text/plain": [
       "                sum     len\n",
       "type                       \n",
       "flexible    10682.7   647.0\n",
       "inflexible  97074.5  1941.0\n",
       "wind        38076.0   263.0"
      ]
     },
     "execution_count": 4,
     "metadata": {},
     "output_type": "execute_result"
    }
   ],
   "source": [
    "supply['type'] = np.where(supply['offer ($/MW)'] <= 0, 'wind', 'inflexible')\n",
    "\n",
    "non_zero_offers = supply.loc[supply['offer ($/MW)'] > 0]\n",
    "flexible_threshold = non_zero_offers['offer ($/MW)'].quantile(0.75)\n",
    "supply.loc[supply['offer ($/MW)'] >= flexible_threshold, 'type'] = 'flexible'\n",
    "\n",
    "supply.groupby('type')['capacity (MW)'].agg([np.sum, len])"
   ]
  },
  {
   "cell_type": "code",
   "execution_count": 5,
   "id": "enabling-pattern",
   "metadata": {},
   "outputs": [
    {
     "data": {
      "text/html": [
       "<div>\n",
       "<style scoped>\n",
       "    .dataframe tbody tr th:only-of-type {\n",
       "        vertical-align: middle;\n",
       "    }\n",
       "\n",
       "    .dataframe tbody tr th {\n",
       "        vertical-align: top;\n",
       "    }\n",
       "\n",
       "    .dataframe thead th {\n",
       "        text-align: right;\n",
       "    }\n",
       "</style>\n",
       "<table border=\"1\" class=\"dataframe\">\n",
       "  <thead>\n",
       "    <tr style=\"text-align: right;\">\n",
       "      <th></th>\n",
       "      <th></th>\n",
       "      <th>sum</th>\n",
       "      <th>len</th>\n",
       "    </tr>\n",
       "    <tr>\n",
       "      <th>node</th>\n",
       "      <th>type</th>\n",
       "      <th></th>\n",
       "      <th></th>\n",
       "    </tr>\n",
       "  </thead>\n",
       "  <tbody>\n",
       "    <tr>\n",
       "      <th rowspan=\"3\" valign=\"top\">Central</th>\n",
       "      <th>flexible</th>\n",
       "      <td>7856.5</td>\n",
       "      <td>324.0</td>\n",
       "    </tr>\n",
       "    <tr>\n",
       "      <th>inflexible</th>\n",
       "      <td>44940.7</td>\n",
       "      <td>896.0</td>\n",
       "    </tr>\n",
       "    <tr>\n",
       "      <th>wind</th>\n",
       "      <td>13666.6</td>\n",
       "      <td>64.0</td>\n",
       "    </tr>\n",
       "    <tr>\n",
       "      <th rowspan=\"3\" valign=\"top\">North</th>\n",
       "      <th>flexible</th>\n",
       "      <td>1979.1</td>\n",
       "      <td>254.0</td>\n",
       "    </tr>\n",
       "    <tr>\n",
       "      <th>inflexible</th>\n",
       "      <td>17551.3</td>\n",
       "      <td>572.0</td>\n",
       "    </tr>\n",
       "    <tr>\n",
       "      <th>wind</th>\n",
       "      <td>24364.4</td>\n",
       "      <td>198.0</td>\n",
       "    </tr>\n",
       "    <tr>\n",
       "      <th rowspan=\"3\" valign=\"top\">South</th>\n",
       "      <th>flexible</th>\n",
       "      <td>847.1</td>\n",
       "      <td>69.0</td>\n",
       "    </tr>\n",
       "    <tr>\n",
       "      <th>inflexible</th>\n",
       "      <td>34582.5</td>\n",
       "      <td>473.0</td>\n",
       "    </tr>\n",
       "    <tr>\n",
       "      <th>wind</th>\n",
       "      <td>45.0</td>\n",
       "      <td>1.0</td>\n",
       "    </tr>\n",
       "  </tbody>\n",
       "</table>\n",
       "</div>"
      ],
      "text/plain": [
       "                        sum    len\n",
       "node    type                      \n",
       "Central flexible     7856.5  324.0\n",
       "        inflexible  44940.7  896.0\n",
       "        wind        13666.6   64.0\n",
       "North   flexible     1979.1  254.0\n",
       "        inflexible  17551.3  572.0\n",
       "        wind        24364.4  198.0\n",
       "South   flexible      847.1   69.0\n",
       "        inflexible  34582.5  473.0\n",
       "        wind           45.0    1.0"
      ]
     },
     "execution_count": 5,
     "metadata": {},
     "output_type": "execute_result"
    }
   ],
   "source": [
    "supply.groupby(['node', 'type'])['capacity (MW)'].agg([np.sum, len])"
   ]
  },
  {
   "cell_type": "code",
   "execution_count": 6,
   "id": "configured-uncertainty",
   "metadata": {},
   "outputs": [],
   "source": [
    "supply.to_csv('20201007_da_co.classified.csv')"
   ]
  },
  {
   "cell_type": "code",
   "execution_count": 7,
   "id": "catholic-investor",
   "metadata": {},
   "outputs": [
    {
     "data": {
      "text/html": [
       "<div>\n",
       "<style scoped>\n",
       "    .dataframe tbody tr th:only-of-type {\n",
       "        vertical-align: middle;\n",
       "    }\n",
       "\n",
       "    .dataframe tbody tr th {\n",
       "        vertical-align: top;\n",
       "    }\n",
       "\n",
       "    .dataframe thead th {\n",
       "        text-align: right;\n",
       "    }\n",
       "</style>\n",
       "<table border=\"1\" class=\"dataframe\">\n",
       "  <thead>\n",
       "    <tr style=\"text-align: right;\">\n",
       "      <th></th>\n",
       "      <th>scenario</th>\n",
       "      <th>id</th>\n",
       "      <th>actual (MW)</th>\n",
       "    </tr>\n",
       "  </thead>\n",
       "  <tbody>\n",
       "    <tr>\n",
       "      <th>0</th>\n",
       "      <td>0</td>\n",
       "      <td>A3200</td>\n",
       "      <td>62.704906</td>\n",
       "    </tr>\n",
       "    <tr>\n",
       "      <th>1</th>\n",
       "      <td>0</td>\n",
       "      <td>A3205</td>\n",
       "      <td>0.627049</td>\n",
       "    </tr>\n",
       "    <tr>\n",
       "      <th>2</th>\n",
       "      <td>0</td>\n",
       "      <td>A3213</td>\n",
       "      <td>13.481555</td>\n",
       "    </tr>\n",
       "    <tr>\n",
       "      <th>3</th>\n",
       "      <td>0</td>\n",
       "      <td>A3215</td>\n",
       "      <td>62.704906</td>\n",
       "    </tr>\n",
       "    <tr>\n",
       "      <th>4</th>\n",
       "      <td>0</td>\n",
       "      <td>A3375</td>\n",
       "      <td>62.704906</td>\n",
       "    </tr>\n",
       "  </tbody>\n",
       "</table>\n",
       "</div>"
      ],
      "text/plain": [
       "   scenario     id  actual (MW)\n",
       "0         0  A3200    62.704906\n",
       "1         0  A3205     0.627049\n",
       "2         0  A3213    13.481555\n",
       "3         0  A3215    62.704906\n",
       "4         0  A3375    62.704906"
      ]
     },
     "execution_count": 7,
     "metadata": {},
     "output_type": "execute_result"
    }
   ],
   "source": [
    "wind_supply = supply.loc[supply['type'] == 'wind']\n",
    "wind_capacity = wind_supply['capacity (MW)']\n",
    "HISTORICAL_WIND = 11937.76\n",
    "wind_scaler = HISTORICAL_WIND / wind_capacity.sum()\n",
    "base_scenario = pd.DataFrame({\n",
    "    'scenario': 0, \n",
    "    'id': wind_supply.index,\n",
    "    'actual (MW)': wind_capacity * wind_scaler,\n",
    "}).reset_index(drop=True)\n",
    "base_scenario.head()"
   ]
  },
  {
   "cell_type": "code",
   "execution_count": 8,
   "id": "typical-atlas",
   "metadata": {},
   "outputs": [],
   "source": [
    "mu, sigma, skew, kurt = 0.0117, 0.1187, -0.616, 1.0308\n",
    "sd_wide = 10\n",
    "f = smde.pdf_mvsk([mu, sigma**2, skew, kurt])\n",
    "x = np.linspace(mu - sd_wide * sigma, mu + sd_wide * sigma, num=1000)\n",
    "y = [f(i) for i in x]\n",
    "yy = np.cumsum(y) / np.sum(y)\n",
    "error_inv_cdf = scipy.interpolate.interp1d(yy, x, fill_value=\"extrapolate\")"
   ]
  },
  {
   "cell_type": "code",
   "execution_count": 9,
   "id": "protected-belief",
   "metadata": {},
   "outputs": [
    {
     "data": {
      "image/png": "[encoded data removed]",
      "text/plain": [
       "<Figure size 864x288 with 2 Axes>"
      ]
     },
     "metadata": {},
     "output_type": "display_data"
    }
   ],
   "source": [
    "fig, axs = plt.subplots(1, 2, figsize=(12,4), sharex=True)\n",
    "axs[0].plot(x, y)\n",
    "axs[0].set_title('Forecast error PDF')\n",
    "axs[1].plot(x, yy)\n",
    "axs[1].set_title('Forecast error CDF')\n",
    "plt.xlim(-0.6, 0.6);"
   ]
  },
  {
   "cell_type": "code",
   "execution_count": 10,
   "id": "historical-distribution",
   "metadata": {},
   "outputs": [],
   "source": [
    "region_alpha = 0.9\n",
    "random_seed = 31792\n",
    "rng = np.random.default_rng(seed=random_seed)\n",
    "n_scenarios = 99\n",
    "\n",
    "scenarios = []\n",
    "for i in range(1, n_scenarios+1):\n",
    "    node_rv = dict(zip(nodes, rng.random(3)))\n",
    "    scenario = base_scenario.copy()\n",
    "    gen_rv = (\n",
    "        region_alpha * supply.loc[scenario['id'], 'node'].apply(node_rv.get) \n",
    "        + (1 - region_alpha) * rng.random(len(scenario))\n",
    "    )\n",
    "    scenario['actual (MW)'] *= (1 + error_inv_cdf(gen_rv))\n",
    "    scenario['scenario'] = i\n",
    "    scenarios.append(scenario)"
   ]
  },
  {
   "cell_type": "code",
   "execution_count": 11,
   "id": "utility-element",
   "metadata": {},
   "outputs": [],
   "source": [
    "all_scenarios = pd.concat([base_scenario] + scenarios, axis=0)\n",
    "all_scenarios.to_csv('20201007_da_co.scenarios.csv', index=False)"
   ]
  },
  {
   "cell_type": "code",
   "execution_count": null,
   "id": "tight-anxiety",
   "metadata": {},
   "outputs": [],
   "source": []
  }
 ],
 "metadata": {
  "kernelspec": {
   "display_name": "power",
   "language": "python",
   "name": "power"
  },
  "language_info": {
   "codemirror_mode": {
    "name": "ipython",
    "version": 3
   },
   "file_extension": ".py",
   "mimetype": "text/x-python",
   "name": "python",
   "nbconvert_exporter": "python",
   "pygments_lexer": "ipython3",
   "version": "3.8.5"
  }
 },
 "nbformat": 4,
 "nbformat_minor": 5
}
