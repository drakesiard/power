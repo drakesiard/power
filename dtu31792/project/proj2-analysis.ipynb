{
 "cells": [
  {
   "cell_type": "code",
   "execution_count": 1,
   "id": "guilty-liberty",
   "metadata": {},
   "outputs": [],
   "source": [
    "from IPython.display import display\n",
    "\n",
    "import itertools\n",
    "from matplotlib import pyplot as plt\n",
    "import numpy as np\n",
    "import os\n",
    "import scipy\n",
    "import pandas as pd\n",
    "import seaborn as sns\n",
    "\n",
    "sns.set_style(\"whitegrid\")\n"
   ]
  },
  {
   "cell_type": "code",
   "execution_count": 2,
   "id": "dental-career",
   "metadata": {},
   "outputs": [],
   "source": [
    "train_obj = pd.read_csv('output/training_objective.csv').set_index('scenario')\n",
    "train_obj['dataset'] = 'training'\n",
    "test_obj = pd.read_csv('output/test_objective.csv').set_index('scenario')\n",
    "test_obj['dataset'] = 'test'\n",
    "obj = pd.concat([train_obj, test_obj], axis='rows')\n",
    "\n"
   ]
  },
  {
   "cell_type": "code",
   "execution_count": 8,
   "id": "satellite-module",
   "metadata": {},
   "outputs": [
    {
     "data": {
      "image/png": "[encoded data removed]",
      "text/plain": [
       "<Figure size 576x360 with 1 Axes>"
      ]
     },
     "metadata": {},
     "output_type": "display_data"
    }
   ],
   "source": [
    "plt.figure(figsize=(8,5))\n",
    "sns.histplot(obj, x='obj', hue='dataset', stat='density', common_norm=False, kde=True)\n",
    "plt.savefig('output/obj_distribution.pdf')"
   ]
  },
  {
   "cell_type": "code",
   "execution_count": 4,
   "id": "removed-desire",
   "metadata": {},
   "outputs": [
    {
     "data": {
      "text/html": [
       "<div>\n",
       "<style scoped>\n",
       "    .dataframe tbody tr th:only-of-type {\n",
       "        vertical-align: middle;\n",
       "    }\n",
       "\n",
       "    .dataframe tbody tr th {\n",
       "        vertical-align: top;\n",
       "    }\n",
       "\n",
       "    .dataframe thead th {\n",
       "        text-align: right;\n",
       "    }\n",
       "</style>\n",
       "<table border=\"1\" class=\"dataframe\">\n",
       "  <thead>\n",
       "    <tr style=\"text-align: right;\">\n",
       "      <th></th>\n",
       "      <th>count</th>\n",
       "      <th>mean</th>\n",
       "      <th>std</th>\n",
       "      <th>min</th>\n",
       "      <th>25%</th>\n",
       "      <th>50%</th>\n",
       "      <th>75%</th>\n",
       "      <th>max</th>\n",
       "    </tr>\n",
       "    <tr>\n",
       "      <th>dataset</th>\n",
       "      <th></th>\n",
       "      <th></th>\n",
       "      <th></th>\n",
       "      <th></th>\n",
       "      <th></th>\n",
       "      <th></th>\n",
       "      <th></th>\n",
       "      <th></th>\n",
       "    </tr>\n",
       "  </thead>\n",
       "  <tbody>\n",
       "    <tr>\n",
       "      <th>test</th>\n",
       "      <td>900.0</td>\n",
       "      <td>1.133128e+08</td>\n",
       "      <td>24362.313304</td>\n",
       "      <td>1.132087e+08</td>\n",
       "      <td>1.133004e+08</td>\n",
       "      <td>1.133248e+08</td>\n",
       "      <td>1.133297e+08</td>\n",
       "      <td>1.133410e+08</td>\n",
       "    </tr>\n",
       "    <tr>\n",
       "      <th>training</th>\n",
       "      <td>101.0</td>\n",
       "      <td>1.133160e+08</td>\n",
       "      <td>21492.203705</td>\n",
       "      <td>1.132490e+08</td>\n",
       "      <td>1.133078e+08</td>\n",
       "      <td>1.133257e+08</td>\n",
       "      <td>1.133301e+08</td>\n",
       "      <td>1.133395e+08</td>\n",
       "    </tr>\n",
       "  </tbody>\n",
       "</table>\n",
       "</div>"
      ],
      "text/plain": [
       "          count          mean           std           min           25%  \\\n",
       "dataset                                                                   \n",
       "test      900.0  1.133128e+08  24362.313304  1.132087e+08  1.133004e+08   \n",
       "training  101.0  1.133160e+08  21492.203705  1.132490e+08  1.133078e+08   \n",
       "\n",
       "                   50%           75%           max  \n",
       "dataset                                             \n",
       "test      1.133248e+08  1.133297e+08  1.133410e+08  \n",
       "training  1.133257e+08  1.133301e+08  1.133395e+08  "
      ]
     },
     "execution_count": 4,
     "metadata": {},
     "output_type": "execute_result"
    }
   ],
   "source": [
    "obj.groupby('dataset')['obj'].describe()"
   ]
  },
  {
   "cell_type": "code",
   "execution_count": 5,
   "id": "raised-arthur",
   "metadata": {},
   "outputs": [
    {
     "data": {
      "text/plain": [
       "LeveneResult(statistic=1.4598956843607407, pvalue=0.22723265125922917)"
      ]
     },
     "execution_count": 5,
     "metadata": {},
     "output_type": "execute_result"
    }
   ],
   "source": [
    "scipy.stats.levene(test_obj['obj'], train_obj['obj'], center='median')"
   ]
  },
  {
   "cell_type": "code",
   "execution_count": 6,
   "id": "immediate-dining",
   "metadata": {},
   "outputs": [
    {
     "data": {
      "text/plain": [
       "Ttest_indResult(statistic=-1.2656438748239942, pvalue=0.20593570087326601)"
      ]
     },
     "execution_count": 6,
     "metadata": {},
     "output_type": "execute_result"
    }
   ],
   "source": [
    "scipy.stats.ttest_ind(test_obj['obj'], train_obj['obj'])"
   ]
  },
  {
   "cell_type": "code",
   "execution_count": null,
   "id": "sexual-recording",
   "metadata": {},
   "outputs": [],
   "source": []
  }
 ],
 "metadata": {
  "kernelspec": {
   "display_name": "power",
   "language": "python",
   "name": "power"
  },
  "language_info": {
   "codemirror_mode": {
    "name": "ipython",
    "version": 3
   },
   "file_extension": ".py",
   "mimetype": "text/x-python",
   "name": "python",
   "nbconvert_exporter": "python",
   "pygments_lexer": "ipython3",
   "version": "3.8.5"
  }
 },
 "nbformat": 4,
 "nbformat_minor": 5
}
