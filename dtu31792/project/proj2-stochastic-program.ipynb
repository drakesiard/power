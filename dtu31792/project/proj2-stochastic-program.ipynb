{
 "cells": [
  {
   "cell_type": "code",
   "execution_count": 1,
   "metadata": {},
   "outputs": [],
   "source": [
    "from IPython.display import display\n",
    "\n",
    "from io import StringIO\n",
    "import itertools\n",
    "from matplotlib import pyplot as plt\n",
    "import numpy as np\n",
    "import os\n",
    "import pandas as pd\n",
    "\n",
    "from mosek.fusion import Model, Domain, Expr, ObjectiveSense, SolutionStatus\n"
   ]
  },
  {
   "cell_type": "code",
   "execution_count": 2,
   "metadata": {},
   "outputs": [
    {
     "name": "stdout",
     "output_type": "stream",
     "text": [
      "(3, 4)\n"
     ]
    },
    {
     "data": {
      "text/html": [
       "<div>\n",
       "<style scoped>\n",
       "    .dataframe tbody tr th:only-of-type {\n",
       "        vertical-align: middle;\n",
       "    }\n",
       "\n",
       "    .dataframe tbody tr th {\n",
       "        vertical-align: top;\n",
       "    }\n",
       "\n",
       "    .dataframe thead th {\n",
       "        text-align: right;\n",
       "    }\n",
       "</style>\n",
       "<table border=\"1\" class=\"dataframe\">\n",
       "  <thead>\n",
       "    <tr style=\"text-align: right;\">\n",
       "      <th></th>\n",
       "      <th>node</th>\n",
       "      <th>capacity (MW)</th>\n",
       "      <th>offer ($/MW)</th>\n",
       "      <th>type</th>\n",
       "    </tr>\n",
       "    <tr>\n",
       "      <th>id</th>\n",
       "      <th></th>\n",
       "      <th></th>\n",
       "      <th></th>\n",
       "      <th></th>\n",
       "    </tr>\n",
       "  </thead>\n",
       "  <tbody>\n",
       "    <tr>\n",
       "      <th>G1</th>\n",
       "      <td>Bus 1</td>\n",
       "      <td>100.0</td>\n",
       "      <td>10.0</td>\n",
       "      <td>inflexible</td>\n",
       "    </tr>\n",
       "    <tr>\n",
       "      <th>WP</th>\n",
       "      <td>Bus 1</td>\n",
       "      <td>70.0</td>\n",
       "      <td>0.0</td>\n",
       "      <td>wind</td>\n",
       "    </tr>\n",
       "    <tr>\n",
       "      <th>G2</th>\n",
       "      <td>Bus 2</td>\n",
       "      <td>30.0</td>\n",
       "      <td>20.0</td>\n",
       "      <td>flexible</td>\n",
       "    </tr>\n",
       "  </tbody>\n",
       "</table>\n",
       "</div>"
      ],
      "text/plain": [
       "     node  capacity (MW)  offer ($/MW)        type\n",
       "id                                                \n",
       "G1  Bus 1          100.0          10.0  inflexible\n",
       "WP  Bus 1           70.0           0.0        wind\n",
       "G2  Bus 2           30.0          20.0    flexible"
      ]
     },
     "execution_count": 2,
     "metadata": {},
     "output_type": "execute_result"
    }
   ],
   "source": [
    "supply = pd.read_csv('stochastic_example_offer.csv').set_index('id')\n",
    "nsupply = len(supply)\n",
    "print(supply.shape)\n",
    "supply.head()"
   ]
  },
  {
   "cell_type": "code",
   "execution_count": 3,
   "metadata": {},
   "outputs": [
    {
     "name": "stdout",
     "output_type": "stream",
     "text": [
      "(1, 3)\n"
     ]
    },
    {
     "data": {
      "text/html": [
       "<div>\n",
       "<style scoped>\n",
       "    .dataframe tbody tr th:only-of-type {\n",
       "        vertical-align: middle;\n",
       "    }\n",
       "\n",
       "    .dataframe tbody tr th {\n",
       "        vertical-align: top;\n",
       "    }\n",
       "\n",
       "    .dataframe thead th {\n",
       "        text-align: right;\n",
       "    }\n",
       "</style>\n",
       "<table border=\"1\" class=\"dataframe\">\n",
       "  <thead>\n",
       "    <tr style=\"text-align: right;\">\n",
       "      <th></th>\n",
       "      <th>node</th>\n",
       "      <th>demand (MW)</th>\n",
       "      <th>bid ($/MW)</th>\n",
       "    </tr>\n",
       "    <tr>\n",
       "      <th>id</th>\n",
       "      <th></th>\n",
       "      <th></th>\n",
       "      <th></th>\n",
       "    </tr>\n",
       "  </thead>\n",
       "  <tbody>\n",
       "    <tr>\n",
       "      <th>Load</th>\n",
       "      <td>Bus 2</td>\n",
       "      <td>120.0</td>\n",
       "      <td>80.0</td>\n",
       "    </tr>\n",
       "  </tbody>\n",
       "</table>\n",
       "</div>"
      ],
      "text/plain": [
       "       node  demand (MW)  bid ($/MW)\n",
       "id                                  \n",
       "Load  Bus 2        120.0        80.0"
      ]
     },
     "execution_count": 3,
     "metadata": {},
     "output_type": "execute_result"
    }
   ],
   "source": [
    "demand = pd.read_csv('stochastic_example_bid.csv').set_index('id')\n",
    "ndemand = len(demand)\n",
    "ushed = demand['bid ($/MW)'].max()\n",
    "print(demand.shape)\n",
    "demand.head()"
   ]
  },
  {
   "cell_type": "code",
   "execution_count": 4,
   "metadata": {},
   "outputs": [
    {
     "name": "stdout",
     "output_type": "stream",
     "text": [
      "(1, 2)\n"
     ]
    },
    {
     "data": {
      "text/html": [
       "<div>\n",
       "<style scoped>\n",
       "    .dataframe tbody tr th:only-of-type {\n",
       "        vertical-align: middle;\n",
       "    }\n",
       "\n",
       "    .dataframe tbody tr th {\n",
       "        vertical-align: top;\n",
       "    }\n",
       "\n",
       "    .dataframe thead th {\n",
       "        text-align: right;\n",
       "    }\n",
       "</style>\n",
       "<table border=\"1\" class=\"dataframe\">\n",
       "  <thead>\n",
       "    <tr style=\"text-align: right;\">\n",
       "      <th></th>\n",
       "      <th>id</th>\n",
       "      <th>actual (MW)</th>\n",
       "    </tr>\n",
       "    <tr>\n",
       "      <th>scenario</th>\n",
       "      <th></th>\n",
       "      <th></th>\n",
       "    </tr>\n",
       "  </thead>\n",
       "  <tbody>\n",
       "    <tr>\n",
       "      <th>1</th>\n",
       "      <td>WP</td>\n",
       "      <td>5.0</td>\n",
       "    </tr>\n",
       "  </tbody>\n",
       "</table>\n",
       "</div>"
      ],
      "text/plain": [
       "          id  actual (MW)\n",
       "scenario                 \n",
       "1         WP          5.0"
      ]
     },
     "execution_count": 4,
     "metadata": {},
     "output_type": "execute_result"
    }
   ],
   "source": [
    "scenarios = pd.read_csv('stochastic_example_scenarios.csv').set_index('scenario')\n",
    "nscenarios = len(scenarios)\n",
    "pi_w = 1. / nscenarios\n",
    "\n",
    "# scenarios = scenarios.loc[[1]]\n",
    "# nscenarios = 1\n",
    "# pi_w = 1.\n",
    "\n",
    "# scenarios = scenarios.loc[[]]\n",
    "# nscenarios = 0\n",
    "# pi_w = 0.\n",
    "\n",
    "nscenarios = len(scenarios)\n",
    "print(scenarios.shape)\n",
    "scenarios.head()"
   ]
  },
  {
   "cell_type": "code",
   "execution_count": 5,
   "metadata": {},
   "outputs": [
    {
     "name": "stdout",
     "output_type": "stream",
     "text": [
      "['Bus 1', 'Bus 2']\n"
     ]
    }
   ],
   "source": [
    "nodes = sorted(set(supply['node']) | set(demand['node']))\n",
    "nnodes = len(nodes)\n",
    "print(nodes)"
   ]
  },
  {
   "cell_type": "code",
   "execution_count": 6,
   "metadata": {},
   "outputs": [
    {
     "data": {
      "text/html": [
       "<div>\n",
       "<style scoped>\n",
       "    .dataframe tbody tr th:only-of-type {\n",
       "        vertical-align: middle;\n",
       "    }\n",
       "\n",
       "    .dataframe tbody tr th {\n",
       "        vertical-align: top;\n",
       "    }\n",
       "\n",
       "    .dataframe thead th {\n",
       "        text-align: right;\n",
       "    }\n",
       "</style>\n",
       "<table border=\"1\" class=\"dataframe\">\n",
       "  <thead>\n",
       "    <tr style=\"text-align: right;\">\n",
       "      <th></th>\n",
       "      <th>source</th>\n",
       "      <th>dest</th>\n",
       "      <th>capacity (MW)</th>\n",
       "      <th>susceptance (S)</th>\n",
       "    </tr>\n",
       "    <tr>\n",
       "      <th>id</th>\n",
       "      <th></th>\n",
       "      <th></th>\n",
       "      <th></th>\n",
       "      <th></th>\n",
       "    </tr>\n",
       "  </thead>\n",
       "  <tbody>\n",
       "    <tr>\n",
       "      <th>Bus 1-Bus 2</th>\n",
       "      <td>Bus 1</td>\n",
       "      <td>Bus 2</td>\n",
       "      <td>5000.0</td>\n",
       "      <td>100000.0</td>\n",
       "    </tr>\n",
       "  </tbody>\n",
       "</table>\n",
       "</div>"
      ],
      "text/plain": [
       "            source   dest  capacity (MW)  susceptance (S)\n",
       "id                                                       \n",
       "Bus 1-Bus 2  Bus 1  Bus 2         5000.0         100000.0"
      ]
     },
     "execution_count": 6,
     "metadata": {},
     "output_type": "execute_result"
    }
   ],
   "source": [
    "lines = pd.DataFrame([\n",
    "    ['%s-%s' % (src, dest), src, dest, 5e3, 1e5] \n",
    "    for src, dest in itertools.combinations(nodes, 2)\n",
    "], columns=['id', 'source', 'dest', 'capacity (MW)', 'susceptance (S)']).set_index('id')\n",
    "nlines = len(lines)\n",
    "lines"
   ]
  },
  {
   "cell_type": "code",
   "execution_count": 7,
   "metadata": {},
   "outputs": [
    {
     "data": {
      "text/html": [
       "<div>\n",
       "<style scoped>\n",
       "    .dataframe tbody tr th:only-of-type {\n",
       "        vertical-align: middle;\n",
       "    }\n",
       "\n",
       "    .dataframe tbody tr th {\n",
       "        vertical-align: top;\n",
       "    }\n",
       "\n",
       "    .dataframe thead th {\n",
       "        text-align: right;\n",
       "    }\n",
       "</style>\n",
       "<table border=\"1\" class=\"dataframe\">\n",
       "  <thead>\n",
       "    <tr style=\"text-align: right;\">\n",
       "      <th></th>\n",
       "      <th>demand (MW)</th>\n",
       "      <th>capacity (MW)</th>\n",
       "    </tr>\n",
       "    <tr>\n",
       "      <th>node</th>\n",
       "      <th></th>\n",
       "      <th></th>\n",
       "    </tr>\n",
       "  </thead>\n",
       "  <tbody>\n",
       "    <tr>\n",
       "      <th>Bus 2</th>\n",
       "      <td>120.0</td>\n",
       "      <td>30.0</td>\n",
       "    </tr>\n",
       "    <tr>\n",
       "      <th>Bus 1</th>\n",
       "      <td>0.0</td>\n",
       "      <td>170.0</td>\n",
       "    </tr>\n",
       "  </tbody>\n",
       "</table>\n",
       "</div>"
      ],
      "text/plain": [
       "       demand (MW)  capacity (MW)\n",
       "node                             \n",
       "Bus 2        120.0           30.0\n",
       "Bus 1          0.0          170.0"
      ]
     },
     "execution_count": 7,
     "metadata": {},
     "output_type": "execute_result"
    }
   ],
   "source": [
    "pd.concat([demand.groupby('node')[['demand (MW)']].sum(),\n",
    "           supply.groupby('node')[['capacity (MW)']].sum()], axis='columns').fillna(0.)"
   ]
  },
  {
   "cell_type": "code",
   "execution_count": 8,
   "metadata": {},
   "outputs": [],
   "source": [
    "M = Model('power')\n",
    "\n",
    "log = StringIO()\n",
    "M.setLogHandler(log)\n",
    "theta = M.variable('theta', nnodes, Domain.inRange(\n",
    "    [0.] + [-np.pi] * (nnodes - 1), \n",
    "    [0.] + [np.pi] * (nnodes - 1), \n",
    "))\n",
    "pD = M.variable('pD', ndemand, Domain.inRange(0., demand['demand (MW)'].values))\n",
    "pG = M.variable('pG', nsupply, Domain.inRange(0., supply['capacity (MW)'].values))\n",
    "UD = demand['bid ($/MW)'].values\n",
    "CG = supply['offer ($/MW)'].values\n",
    "\n",
    "line_constraints = Domain.inRange(-lines['capacity (MW)'].values, \n",
    "                                  lines['capacity (MW)'].values)\n",
    "line_flows = M.variable('flows', nlines, line_constraints)\n",
    "src_idx = [nodes.index(x) for x in lines.source]\n",
    "dst_idx = [nodes.index(x) for x in lines.dest]\n",
    "phase_diff = Expr.sub(theta.pick(src_idx), theta.pick(dst_idx))\n",
    "phase_flow = M.constraint(Expr.sub(line_flows, \n",
    "                                  Expr.mulElm(lines['susceptance (S)'].values, phase_diff)),\n",
    "                         Domain.equalsTo(0.))\n",
    "node_balance_eqs = []\n",
    "for node in nodes:\n",
    "    supply_idx = np.flatnonzero(supply.node == node).astype('int32')\n",
    "    demand_idx = np.flatnonzero(demand.node == node).astype('int32')\n",
    "    node_supply = Expr.sum(pG.pick(supply_idx))\n",
    "    node_demand = Expr.sum(pD.pick(demand_idx))\n",
    "    balance = Expr.sub(node_demand, node_supply)\n",
    "    direction = [1 if line.source == node else \n",
    "                 -1 if line.dest == node else \n",
    "                 0 for line_idx, line in lines.iterrows()]\n",
    "    balance = Expr.add(balance, Expr.dot(direction, line_flows))\n",
    "    balance_eq = M.constraint(node + 'balance', balance, Domain.equalsTo(0.))\n",
    "    node_balance_eqs.append(balance_eq)\n",
    "\n",
    "obj = Expr.sub(Expr.dot(UD, pD), Expr.dot(CG, pG))\n",
    "\n",
    "M.constraint(pG.index(1), Domain.equalsTo(10.))\n",
    "\n",
    "inflexible_idx = np.flatnonzero(supply.type == 'inflexible').astype('int32')\n",
    "gdown = -supply['capacity (MW)'].values.copy()\n",
    "gdown[inflexible_idx] = 0.\n",
    "gup = supply['capacity (MW)'].values.copy()\n",
    "gup[inflexible_idx] = 0.\n",
    "\n",
    "wind_idx = np.flatnonzero(supply.type == 'wind').astype('int32')\n",
    "nwind = len(wind_idx)\n",
    "# flexible_idx = np.flatnonzero(supply.type == 'flexible')\n",
    "\n",
    "node_balance_eqs_rt = []\n",
    "for w_id, w in scenarios.groupby(level='scenario'):\n",
    "    assert list(w.id) == list(supply.iloc[wind_idx].index)\n",
    "    wind_actual = w['actual (MW)'].values\n",
    "    \n",
    "    theta_w = M.variable('theta%s' % w_id, nnodes, Domain.inRange(\n",
    "        [0.] + [-np.pi] * (nnodes - 1), \n",
    "        [0.] + [np.pi] * (nnodes - 1), \n",
    "    ))\n",
    "    pDrt = M.variable('pDrt%s' % w_id, ndemand, Domain.lessThan(0.))\n",
    "    pGrt = M.variable('pGrt%s' % w_id, nsupply, Domain.inRange(gdown, gup))\n",
    "    pGspill = M.variable('pGspill%s' % w_id, nwind, Domain.inRange(0., wind_actual))\n",
    "\n",
    "    M.constraint(Expr.add(pD, pDrt), Domain.inRange(0., demand['demand (MW)'].values))\n",
    "    M.constraint(Expr.add(pG, pGrt), Domain.inRange(0., supply['capacity (MW)'].values))\n",
    "    \n",
    "    total_wind = Expr.add(pG.pick(wind_idx), pGrt.pick(wind_idx))\n",
    "    total_wind = Expr.add(total_wind, pGspill)\n",
    "    M.constraint(total_wind, Domain.equalsTo(wind_actual))\n",
    "\n",
    "    line_flows_w = M.variable('flows%s' % w_id, nlines, line_constraints)\n",
    "    phase_diff_w = Expr.sub(theta_w.pick(src_idx), theta_w.pick(dst_idx))\n",
    "    phase_flow_w = M.constraint(Expr.sub(line_flows_w, \n",
    "                                         Expr.mulElm(lines['susceptance (S)'].values, phase_diff_w)),\n",
    "                                Domain.equalsTo(0.))\n",
    "    node_balance_eqs_w = []\n",
    "    for node in reversed(nodes):\n",
    "        supply_idx = np.flatnonzero(supply.node == node).astype('int32')\n",
    "        demand_idx = np.flatnonzero(demand.node == node).astype('int32')\n",
    "\n",
    "        node_supply = Expr.sum(pG.pick(supply_idx))\n",
    "        node_demand = Expr.sum(pD.pick(demand_idx))\n",
    "        node_supply_w = Expr.sum(pGrt.pick(supply_idx))\n",
    "        node_demand_w = Expr.sum(pDrt.pick(demand_idx))\n",
    "        balance_w = Expr.sub(node_demand, node_supply)\n",
    "        balance_w = Expr.add(balance_w, node_demand_w)\n",
    "        balance_w = Expr.sub(balance_w, node_supply_w)\n",
    "        direction = [1 if line.source == node else \n",
    "                     -1 if line.dest == node else \n",
    "                     0 for line_idx, line in lines.iterrows()]\n",
    "        balance_w = Expr.add(balance_w, Expr.dot(direction, line_flows_w))\n",
    "        balance_eq_w = M.constraint(node + 'balance%s' % w_id, balance_w, Domain.equalsTo(0.))\n",
    "        node_balance_eqs_w.append(balance_eq_w)\n",
    "    \n",
    "    node_balance_eqs_rt.append(node_balance_eqs_w)\n",
    "    \n",
    "    obj_w = Expr.sub(Expr.mul(ushed, Expr.sum(pDrt)), Expr.dot(CG, pGrt))\n",
    "    obj = Expr.add(obj, Expr.mul(pi_w, obj_w))\n",
    "\n",
    "M.objective('obj', ObjectiveSense.Maximize, obj)\n",
    "M.solve()\n",
    "\n",
    "if M.getPrimalSolutionStatus() != SolutionStatus.Optimal:\n",
    "    M.writeTask('proj1.opf')\n",
    "\n",
    "demand['DA'] = pD.level()\n",
    "supply['DA'] = pG.level()\n",
    "for w_id in scenarios.index.unique():\n",
    "    demand['RT%s' % w_id] = pD.level() + M.getVariable('pDrt%s' % w_id).level()\n",
    "    supply['RT%s' % w_id] = pG.level() + M.getVariable('pGrt%s' % w_id).level()\n",
    "    \n",
    "lines['flow (DA)'] = line_flows.level()\n",
    "\n",
    "buses = pd.DataFrame({\n",
    "    'volt. angle (rad)': theta.level(),\n",
    "    'price (DA)': [e.dual()[0] for e in node_balance_eqs],\n",
    "}, index=nodes)\n"
   ]
  },
  {
   "cell_type": "code",
   "execution_count": 9,
   "metadata": {},
   "outputs": [
    {
     "data": {
      "text/html": [
       "<div>\n",
       "<style scoped>\n",
       "    .dataframe tbody tr th:only-of-type {\n",
       "        vertical-align: middle;\n",
       "    }\n",
       "\n",
       "    .dataframe tbody tr th {\n",
       "        vertical-align: top;\n",
       "    }\n",
       "\n",
       "    .dataframe thead th {\n",
       "        text-align: right;\n",
       "    }\n",
       "</style>\n",
       "<table border=\"1\" class=\"dataframe\">\n",
       "  <thead>\n",
       "    <tr style=\"text-align: right;\">\n",
       "      <th></th>\n",
       "      <th>node</th>\n",
       "      <th>capacity (MW)</th>\n",
       "      <th>offer ($/MW)</th>\n",
       "      <th>type</th>\n",
       "      <th>DA</th>\n",
       "      <th>RT1</th>\n",
       "    </tr>\n",
       "    <tr>\n",
       "      <th>id</th>\n",
       "      <th></th>\n",
       "      <th></th>\n",
       "      <th></th>\n",
       "      <th></th>\n",
       "      <th></th>\n",
       "      <th></th>\n",
       "    </tr>\n",
       "  </thead>\n",
       "  <tbody>\n",
       "    <tr>\n",
       "      <th>G1</th>\n",
       "      <td>Bus 1</td>\n",
       "      <td>100.0</td>\n",
       "      <td>10.0</td>\n",
       "      <td>inflexible</td>\n",
       "      <td>100.0</td>\n",
       "      <td>100.0</td>\n",
       "    </tr>\n",
       "    <tr>\n",
       "      <th>WP</th>\n",
       "      <td>Bus 1</td>\n",
       "      <td>70.0</td>\n",
       "      <td>0.0</td>\n",
       "      <td>wind</td>\n",
       "      <td>10.0</td>\n",
       "      <td>5.0</td>\n",
       "    </tr>\n",
       "    <tr>\n",
       "      <th>G2</th>\n",
       "      <td>Bus 2</td>\n",
       "      <td>30.0</td>\n",
       "      <td>20.0</td>\n",
       "      <td>flexible</td>\n",
       "      <td>10.0</td>\n",
       "      <td>15.0</td>\n",
       "    </tr>\n",
       "  </tbody>\n",
       "</table>\n",
       "</div>"
      ],
      "text/plain": [
       "     node  capacity (MW)  offer ($/MW)        type    DA   RT1\n",
       "id                                                            \n",
       "G1  Bus 1          100.0          10.0  inflexible 100.0 100.0\n",
       "WP  Bus 1           70.0           0.0        wind  10.0   5.0\n",
       "G2  Bus 2           30.0          20.0    flexible  10.0  15.0"
      ]
     },
     "metadata": {},
     "output_type": "display_data"
    }
   ],
   "source": [
    "with pd.option_context('display.float_format', '{:.1f}'.format):\n",
    "    display(supply.head())"
   ]
  },
  {
   "cell_type": "code",
   "execution_count": 10,
   "metadata": {},
   "outputs": [
    {
     "data": {
      "text/html": [
       "<div>\n",
       "<style scoped>\n",
       "    .dataframe tbody tr th:only-of-type {\n",
       "        vertical-align: middle;\n",
       "    }\n",
       "\n",
       "    .dataframe tbody tr th {\n",
       "        vertical-align: top;\n",
       "    }\n",
       "\n",
       "    .dataframe thead th {\n",
       "        text-align: right;\n",
       "    }\n",
       "</style>\n",
       "<table border=\"1\" class=\"dataframe\">\n",
       "  <thead>\n",
       "    <tr style=\"text-align: right;\">\n",
       "      <th></th>\n",
       "      <th>node</th>\n",
       "      <th>demand (MW)</th>\n",
       "      <th>bid ($/MW)</th>\n",
       "      <th>DA</th>\n",
       "      <th>RT1</th>\n",
       "    </tr>\n",
       "    <tr>\n",
       "      <th>id</th>\n",
       "      <th></th>\n",
       "      <th></th>\n",
       "      <th></th>\n",
       "      <th></th>\n",
       "      <th></th>\n",
       "    </tr>\n",
       "  </thead>\n",
       "  <tbody>\n",
       "    <tr>\n",
       "      <th>Load</th>\n",
       "      <td>Bus 2</td>\n",
       "      <td>120.0</td>\n",
       "      <td>80.0</td>\n",
       "      <td>120.0</td>\n",
       "      <td>120.0</td>\n",
       "    </tr>\n",
       "  </tbody>\n",
       "</table>\n",
       "</div>"
      ],
      "text/plain": [
       "       node  demand (MW)  bid ($/MW)     DA    RT1\n",
       "id                                                \n",
       "Load  Bus 2        120.0        80.0  120.0  120.0"
      ]
     },
     "execution_count": 10,
     "metadata": {},
     "output_type": "execute_result"
    }
   ],
   "source": [
    "demand.head()"
   ]
  },
  {
   "cell_type": "code",
   "execution_count": 11,
   "metadata": {},
   "outputs": [
    {
     "data": {
      "text/html": [
       "<div>\n",
       "<style scoped>\n",
       "    .dataframe tbody tr th:only-of-type {\n",
       "        vertical-align: middle;\n",
       "    }\n",
       "\n",
       "    .dataframe tbody tr th {\n",
       "        vertical-align: top;\n",
       "    }\n",
       "\n",
       "    .dataframe thead th {\n",
       "        text-align: right;\n",
       "    }\n",
       "</style>\n",
       "<table border=\"1\" class=\"dataframe\">\n",
       "  <thead>\n",
       "    <tr style=\"text-align: right;\">\n",
       "      <th></th>\n",
       "      <th>volt. angle (rad)</th>\n",
       "      <th>price (DA)</th>\n",
       "    </tr>\n",
       "  </thead>\n",
       "  <tbody>\n",
       "    <tr>\n",
       "      <th>Bus 1</th>\n",
       "      <td>0.0000</td>\n",
       "      <td>-4.050149e-09</td>\n",
       "    </tr>\n",
       "    <tr>\n",
       "      <th>Bus 2</th>\n",
       "      <td>-0.0011</td>\n",
       "      <td>-4.050149e-09</td>\n",
       "    </tr>\n",
       "  </tbody>\n",
       "</table>\n",
       "</div>"
      ],
      "text/plain": [
       "       volt. angle (rad)    price (DA)\n",
       "Bus 1             0.0000 -4.050149e-09\n",
       "Bus 2            -0.0011 -4.050149e-09"
      ]
     },
     "execution_count": 11,
     "metadata": {},
     "output_type": "execute_result"
    }
   ],
   "source": [
    "buses.head()"
   ]
  },
  {
   "cell_type": "code",
   "execution_count": 12,
   "metadata": {},
   "outputs": [
    {
     "data": {
      "text/html": [
       "<div>\n",
       "<style scoped>\n",
       "    .dataframe tbody tr th:only-of-type {\n",
       "        vertical-align: middle;\n",
       "    }\n",
       "\n",
       "    .dataframe tbody tr th {\n",
       "        vertical-align: top;\n",
       "    }\n",
       "\n",
       "    .dataframe thead th {\n",
       "        text-align: right;\n",
       "    }\n",
       "</style>\n",
       "<table border=\"1\" class=\"dataframe\">\n",
       "  <thead>\n",
       "    <tr style=\"text-align: right;\">\n",
       "      <th></th>\n",
       "      <th>source</th>\n",
       "      <th>dest</th>\n",
       "      <th>capacity (MW)</th>\n",
       "      <th>susceptance (S)</th>\n",
       "      <th>flow (DA)</th>\n",
       "    </tr>\n",
       "    <tr>\n",
       "      <th>id</th>\n",
       "      <th></th>\n",
       "      <th></th>\n",
       "      <th></th>\n",
       "      <th></th>\n",
       "      <th></th>\n",
       "    </tr>\n",
       "  </thead>\n",
       "  <tbody>\n",
       "    <tr>\n",
       "      <th>Bus 1-Bus 2</th>\n",
       "      <td>Bus 1</td>\n",
       "      <td>Bus 2</td>\n",
       "      <td>5000.0</td>\n",
       "      <td>100000.0</td>\n",
       "      <td>110.0</td>\n",
       "    </tr>\n",
       "  </tbody>\n",
       "</table>\n",
       "</div>"
      ],
      "text/plain": [
       "            source   dest  capacity (MW)  susceptance (S)  flow (DA)\n",
       "id                                                                  \n",
       "Bus 1-Bus 2  Bus 1  Bus 2         5000.0         100000.0      110.0"
      ]
     },
     "execution_count": 12,
     "metadata": {},
     "output_type": "execute_result"
    }
   ],
   "source": [
    "lines"
   ]
  },
  {
   "cell_type": "code",
   "execution_count": 13,
   "metadata": {},
   "outputs": [
    {
     "data": {
      "text/html": [
       "<div>\n",
       "<style scoped>\n",
       "    .dataframe tbody tr th:only-of-type {\n",
       "        vertical-align: middle;\n",
       "    }\n",
       "\n",
       "    .dataframe tbody tr th {\n",
       "        vertical-align: top;\n",
       "    }\n",
       "\n",
       "    .dataframe thead th {\n",
       "        text-align: right;\n",
       "    }\n",
       "</style>\n",
       "<table border=\"1\" class=\"dataframe\">\n",
       "  <thead>\n",
       "    <tr style=\"text-align: right;\">\n",
       "      <th></th>\n",
       "      <th>price ($/MW)</th>\n",
       "      <th>consumed (MW)</th>\n",
       "      <th>supplied (MW)</th>\n",
       "    </tr>\n",
       "  </thead>\n",
       "  <tbody>\n",
       "    <tr>\n",
       "      <th>Bus 1</th>\n",
       "      <td>-4.050149e-09</td>\n",
       "      <td>0.0</td>\n",
       "      <td>110.0</td>\n",
       "    </tr>\n",
       "    <tr>\n",
       "      <th>Bus 2</th>\n",
       "      <td>-4.050149e-09</td>\n",
       "      <td>120.0</td>\n",
       "      <td>10.0</td>\n",
       "    </tr>\n",
       "  </tbody>\n",
       "</table>\n",
       "</div>"
      ],
      "text/plain": [
       "       price ($/MW)  consumed (MW)  supplied (MW)\n",
       "Bus 1 -4.050149e-09            0.0          110.0\n",
       "Bus 2 -4.050149e-09          120.0           10.0"
      ]
     },
     "metadata": {},
     "output_type": "display_data"
    },
    {
     "name": "stdout",
     "output_type": "stream",
     "text": [
      "\\begin{tabular}{lrrr}\n",
      "\\toprule\n",
      "{} &  price (\\$/MW) &  consumed (MW) &  supplied (MW) \\\\\n",
      "\\midrule\n",
      "Bus 1 & -4.050149e-09 &            0.0 &          110.0 \\\\\n",
      "Bus 2 & -4.050149e-09 &          120.0 &           10.0 \\\\\n",
      "\\bottomrule\n",
      "\\end{tabular}\n",
      "\n"
     ]
    }
   ],
   "source": [
    "summary = pd.concat([\n",
    "    buses['price (DA)'],\n",
    "    demand.groupby('node')['DA'].sum(),\n",
    "    supply.groupby('node')['DA'].sum(),\n",
    "], axis=1).fillna(0.)\n",
    "summary.columns = ['price ($/MW)', 'consumed (MW)', 'supplied (MW)']\n",
    "display(summary)\n",
    "print(summary.to_latex())"
   ]
  },
  {
   "cell_type": "code",
   "execution_count": 14,
   "metadata": {},
   "outputs": [
    {
     "ename": "KeyError",
     "evalue": "'consumed (MW)'",
     "output_type": "error",
     "traceback": [
      "\u001b[0;31m---------------------------------------------------------------------------\u001b[0m",
      "\u001b[0;31mKeyError\u001b[0m                                  Traceback (most recent call last)",
      "\u001b[0;32m~/.virtualenvs/power/lib/python3.8/site-packages/pandas/core/indexes/base.py\u001b[0m in \u001b[0;36mget_loc\u001b[0;34m(self, key, method, tolerance)\u001b[0m\n\u001b[1;32m   3079\u001b[0m             \u001b[0;32mtry\u001b[0m\u001b[0;34m:\u001b[0m\u001b[0;34m\u001b[0m\u001b[0;34m\u001b[0m\u001b[0m\n\u001b[0;32m-> 3080\u001b[0;31m                 \u001b[0;32mreturn\u001b[0m \u001b[0mself\u001b[0m\u001b[0;34m.\u001b[0m\u001b[0m_engine\u001b[0m\u001b[0;34m.\u001b[0m\u001b[0mget_loc\u001b[0m\u001b[0;34m(\u001b[0m\u001b[0mcasted_key\u001b[0m\u001b[0;34m)\u001b[0m\u001b[0;34m\u001b[0m\u001b[0;34m\u001b[0m\u001b[0m\n\u001b[0m\u001b[1;32m   3081\u001b[0m             \u001b[0;32mexcept\u001b[0m \u001b[0mKeyError\u001b[0m \u001b[0;32mas\u001b[0m \u001b[0merr\u001b[0m\u001b[0;34m:\u001b[0m\u001b[0;34m\u001b[0m\u001b[0;34m\u001b[0m\u001b[0m\n",
      "\u001b[0;32mpandas/_libs/index.pyx\u001b[0m in \u001b[0;36mpandas._libs.index.IndexEngine.get_loc\u001b[0;34m()\u001b[0m\n",
      "\u001b[0;32mpandas/_libs/index.pyx\u001b[0m in \u001b[0;36mpandas._libs.index.IndexEngine.get_loc\u001b[0;34m()\u001b[0m\n",
      "\u001b[0;32mpandas/_libs/hashtable_class_helper.pxi\u001b[0m in \u001b[0;36mpandas._libs.hashtable.PyObjectHashTable.get_item\u001b[0;34m()\u001b[0m\n",
      "\u001b[0;32mpandas/_libs/hashtable_class_helper.pxi\u001b[0m in \u001b[0;36mpandas._libs.hashtable.PyObjectHashTable.get_item\u001b[0;34m()\u001b[0m\n",
      "\u001b[0;31mKeyError\u001b[0m: 'consumed (MW)'",
      "\nThe above exception was the direct cause of the following exception:\n",
      "\u001b[0;31mKeyError\u001b[0m                                  Traceback (most recent call last)",
      "\u001b[0;32m<ipython-input-14-26fd622c368b>\u001b[0m in \u001b[0;36m<module>\u001b[0;34m\u001b[0m\n\u001b[0;32m----> 1\u001b[0;31m \u001b[0mprint\u001b[0m\u001b[0;34m(\u001b[0m\u001b[0;34m'Energy scheduled: {:g}'\u001b[0m\u001b[0;34m.\u001b[0m\u001b[0mformat\u001b[0m\u001b[0;34m(\u001b[0m\u001b[0mdemand\u001b[0m\u001b[0;34m[\u001b[0m\u001b[0;34m'consumed (MW)'\u001b[0m\u001b[0;34m]\u001b[0m\u001b[0;34m.\u001b[0m\u001b[0msum\u001b[0m\u001b[0;34m(\u001b[0m\u001b[0;34m)\u001b[0m\u001b[0;34m)\u001b[0m\u001b[0;34m)\u001b[0m\u001b[0;34m\u001b[0m\u001b[0;34m\u001b[0m\u001b[0m\n\u001b[0m\u001b[1;32m      2\u001b[0m \u001b[0mprint\u001b[0m\u001b[0;34m(\u001b[0m\u001b[0;34m'Objective value: {:g}'\u001b[0m\u001b[0;34m.\u001b[0m\u001b[0mformat\u001b[0m\u001b[0;34m(\u001b[0m\u001b[0mM\u001b[0m\u001b[0;34m.\u001b[0m\u001b[0mprimalObjValue\u001b[0m\u001b[0;34m(\u001b[0m\u001b[0;34m)\u001b[0m\u001b[0;34m)\u001b[0m\u001b[0;34m)\u001b[0m\u001b[0;34m\u001b[0m\u001b[0;34m\u001b[0m\u001b[0m\n\u001b[1;32m      3\u001b[0m \u001b[0mdisplay\u001b[0m\u001b[0;34m(\u001b[0m\u001b[0mlines\u001b[0m\u001b[0;34m)\u001b[0m\u001b[0;34m\u001b[0m\u001b[0;34m\u001b[0m\u001b[0m\n\u001b[1;32m      4\u001b[0m \u001b[0mdisplay\u001b[0m\u001b[0;34m(\u001b[0m\u001b[0mbuses\u001b[0m\u001b[0;34m)\u001b[0m\u001b[0;34m\u001b[0m\u001b[0;34m\u001b[0m\u001b[0m\n\u001b[1;32m      5\u001b[0m \u001b[0mdisplay\u001b[0m\u001b[0;34m(\u001b[0m\u001b[0mdemand\u001b[0m\u001b[0;34m.\u001b[0m\u001b[0msort_values\u001b[0m\u001b[0;34m(\u001b[0m\u001b[0;34m'bid ($/MW)'\u001b[0m\u001b[0;34m)\u001b[0m\u001b[0;34m)\u001b[0m\u001b[0;34m\u001b[0m\u001b[0;34m\u001b[0m\u001b[0m\n",
      "\u001b[0;32m~/.virtualenvs/power/lib/python3.8/site-packages/pandas/core/frame.py\u001b[0m in \u001b[0;36m__getitem__\u001b[0;34m(self, key)\u001b[0m\n\u001b[1;32m   3022\u001b[0m             \u001b[0;32mif\u001b[0m \u001b[0mself\u001b[0m\u001b[0;34m.\u001b[0m\u001b[0mcolumns\u001b[0m\u001b[0;34m.\u001b[0m\u001b[0mnlevels\u001b[0m \u001b[0;34m>\u001b[0m \u001b[0;36m1\u001b[0m\u001b[0;34m:\u001b[0m\u001b[0;34m\u001b[0m\u001b[0;34m\u001b[0m\u001b[0m\n\u001b[1;32m   3023\u001b[0m                 \u001b[0;32mreturn\u001b[0m \u001b[0mself\u001b[0m\u001b[0;34m.\u001b[0m\u001b[0m_getitem_multilevel\u001b[0m\u001b[0;34m(\u001b[0m\u001b[0mkey\u001b[0m\u001b[0;34m)\u001b[0m\u001b[0;34m\u001b[0m\u001b[0;34m\u001b[0m\u001b[0m\n\u001b[0;32m-> 3024\u001b[0;31m             \u001b[0mindexer\u001b[0m \u001b[0;34m=\u001b[0m \u001b[0mself\u001b[0m\u001b[0;34m.\u001b[0m\u001b[0mcolumns\u001b[0m\u001b[0;34m.\u001b[0m\u001b[0mget_loc\u001b[0m\u001b[0;34m(\u001b[0m\u001b[0mkey\u001b[0m\u001b[0;34m)\u001b[0m\u001b[0;34m\u001b[0m\u001b[0;34m\u001b[0m\u001b[0m\n\u001b[0m\u001b[1;32m   3025\u001b[0m             \u001b[0;32mif\u001b[0m \u001b[0mis_integer\u001b[0m\u001b[0;34m(\u001b[0m\u001b[0mindexer\u001b[0m\u001b[0;34m)\u001b[0m\u001b[0;34m:\u001b[0m\u001b[0;34m\u001b[0m\u001b[0;34m\u001b[0m\u001b[0m\n\u001b[1;32m   3026\u001b[0m                 \u001b[0mindexer\u001b[0m \u001b[0;34m=\u001b[0m \u001b[0;34m[\u001b[0m\u001b[0mindexer\u001b[0m\u001b[0;34m]\u001b[0m\u001b[0;34m\u001b[0m\u001b[0;34m\u001b[0m\u001b[0m\n",
      "\u001b[0;32m~/.virtualenvs/power/lib/python3.8/site-packages/pandas/core/indexes/base.py\u001b[0m in \u001b[0;36mget_loc\u001b[0;34m(self, key, method, tolerance)\u001b[0m\n\u001b[1;32m   3080\u001b[0m                 \u001b[0;32mreturn\u001b[0m \u001b[0mself\u001b[0m\u001b[0;34m.\u001b[0m\u001b[0m_engine\u001b[0m\u001b[0;34m.\u001b[0m\u001b[0mget_loc\u001b[0m\u001b[0;34m(\u001b[0m\u001b[0mcasted_key\u001b[0m\u001b[0;34m)\u001b[0m\u001b[0;34m\u001b[0m\u001b[0;34m\u001b[0m\u001b[0m\n\u001b[1;32m   3081\u001b[0m             \u001b[0;32mexcept\u001b[0m \u001b[0mKeyError\u001b[0m \u001b[0;32mas\u001b[0m \u001b[0merr\u001b[0m\u001b[0;34m:\u001b[0m\u001b[0;34m\u001b[0m\u001b[0;34m\u001b[0m\u001b[0m\n\u001b[0;32m-> 3082\u001b[0;31m                 \u001b[0;32mraise\u001b[0m \u001b[0mKeyError\u001b[0m\u001b[0;34m(\u001b[0m\u001b[0mkey\u001b[0m\u001b[0;34m)\u001b[0m \u001b[0;32mfrom\u001b[0m \u001b[0merr\u001b[0m\u001b[0;34m\u001b[0m\u001b[0;34m\u001b[0m\u001b[0m\n\u001b[0m\u001b[1;32m   3083\u001b[0m \u001b[0;34m\u001b[0m\u001b[0m\n\u001b[1;32m   3084\u001b[0m         \u001b[0;32mif\u001b[0m \u001b[0mtolerance\u001b[0m \u001b[0;32mis\u001b[0m \u001b[0;32mnot\u001b[0m \u001b[0;32mNone\u001b[0m\u001b[0;34m:\u001b[0m\u001b[0;34m\u001b[0m\u001b[0;34m\u001b[0m\u001b[0m\n",
      "\u001b[0;31mKeyError\u001b[0m: 'consumed (MW)'"
     ]
    }
   ],
   "source": [
    "print('Energy scheduled: {:g}'.format(demand['consumed (MW)'].sum()))\n",
    "print('Objective value: {:g}'.format(M.primalObjValue()))\n",
    "display(lines)\n",
    "display(buses)\n",
    "display(demand.sort_values('bid ($/MW)'))\n",
    "display(supply.sort_values('offer ($/MW)'))"
   ]
  },
  {
   "cell_type": "code",
   "execution_count": null,
   "metadata": {},
   "outputs": [],
   "source": [
    "print(log.getvalue())"
   ]
  },
  {
   "cell_type": "code",
   "execution_count": null,
   "metadata": {},
   "outputs": [],
   "source": [
    "supply.query('`offer ($/MW)` <= 0.').groupby('node')[['capacity (MW)', 'supplied (MW)']].sum()"
   ]
  },
  {
   "cell_type": "code",
   "execution_count": null,
   "metadata": {},
   "outputs": [],
   "source": [
    "supply.query('`offer ($/MW)` > 0.').groupby('node')[['capacity (MW)', 'supplied (MW)']].sum()"
   ]
  },
  {
   "cell_type": "code",
   "execution_count": null,
   "metadata": {},
   "outputs": [],
   "source": [
    "demand.query('`bid ($/MW)` <= 0.').groupby('node')[['demand (MW)', 'consumed (MW)']].sum()"
   ]
  },
  {
   "cell_type": "code",
   "execution_count": null,
   "metadata": {},
   "outputs": [],
   "source": [
    "demand.query('`bid ($/MW)` > 0.').groupby('node')[['demand (MW)', 'consumed (MW)']].sum()"
   ]
  },
  {
   "cell_type": "code",
   "execution_count": null,
   "metadata": {},
   "outputs": [],
   "source": []
  }
 ],
 "metadata": {
  "kernelspec": {
   "display_name": "power",
   "language": "python",
   "name": "power"
  },
  "language_info": {
   "codemirror_mode": {
    "name": "ipython",
    "version": 3
   },
   "file_extension": ".py",
   "mimetype": "text/x-python",
   "name": "python",
   "nbconvert_exporter": "python",
   "pygments_lexer": "ipython3",
   "version": "3.8.5"
  }
 },
 "nbformat": 4,
 "nbformat_minor": 4
}
